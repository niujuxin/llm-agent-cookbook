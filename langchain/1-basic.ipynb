{
 "cells": [
  {
   "cell_type": "code",
   "execution_count": 1,
   "metadata": {},
   "outputs": [],
   "source": [
    "import os\n",
    "\n",
    "dotenv_path = os.path.join(os.getcwd(), '..', '.env')\n",
    "\n",
    "if os.path.exists(dotenv_path):\n",
    "    from dotenv import load_dotenv\n",
    "    load_dotenv(dotenv_path, override=True)\n",
    "\n",
    "# Check if OPENAI_API_KEY is set as an environment variable.\n",
    "if 'OPENAI_API_KEY' not in os.environ:\n",
    "    raise Exception('Set the OPENAI_API_KEY environment variable.')"
   ]
  },
  {
   "cell_type": "code",
   "execution_count": 2,
   "metadata": {},
   "outputs": [],
   "source": [
    "from typing import List\n",
    "\n",
    "from langchain_openai import ChatOpenAI\n",
    "from langchain_core.prompts import ChatPromptTemplate\n",
    "from langchain_core.prompt_values import ChatPromptValue\n",
    "from langchain_core.output_parsers import StrOutputParser\n",
    "\n",
    "# Define the model\n",
    "model = ChatOpenAI(model=\"gpt-3.5-turbo\",)\n",
    "\n",
    "# Define the prompt template\n",
    "prompt_template: ChatPromptTemplate = ChatPromptTemplate.from_messages([\n",
    "    ('system', (\n",
    "        'You are an expert for linguistics. '\n",
    "        'Your task is to translate the following text from {srclang} to {tarlang}.'\n",
    "    )),\n",
    "    ('user', '{text}'),\n",
    "])\n",
    "\n",
    "# Define the output parser\n",
    "parser = StrOutputParser()\n"
   ]
  },
  {
   "cell_type": "code",
   "execution_count": 3,
   "metadata": {},
   "outputs": [
    {
     "name": "stdout",
     "output_type": "stream",
     "text": [
      "Messages: [\n",
      "  {\n",
      "    \"content\": \"You are an expert for linguistics. Your task is to translate the following text from English to French.\",\n",
      "    \"additional_kwargs\": {},\n",
      "    \"response_metadata\": {},\n",
      "    \"type\": \"system\",\n",
      "    \"name\": null,\n",
      "    \"id\": null\n",
      "  },\n",
      "  {\n",
      "    \"content\": \"What is the capital of France?\",\n",
      "    \"additional_kwargs\": {},\n",
      "    \"response_metadata\": {},\n",
      "    \"type\": \"human\",\n",
      "    \"name\": null,\n",
      "    \"id\": null,\n",
      "    \"example\": false\n",
      "  }\n",
      "] \n",
      "\n",
      "Quelle est la capitale de la France ?\n"
     ]
    }
   ],
   "source": [
    "import json\n",
    "\n",
    "from langchain_core.messages import BaseMessage, AIMessage\n",
    "\n",
    "\"\"\"\n",
    "Use the `invoke` method of the `ChatPromptTemplate` class to generate an instance of the template. \n",
    "The returned value is an instance of the `ChatPromptValue` class.\n",
    "Use `to_messages` method of the `ChatPromptValue` class to convert the value to a list of messages.\n",
    "\"\"\"\n",
    "\n",
    "prompt: ChatPromptValue = prompt_template.invoke({\n",
    "    'srclang': 'English',\n",
    "    'tarlang': 'French',\n",
    "    'text': 'What is the capital of France?'\n",
    "})\n",
    "prompt_messages: List[BaseMessage] = prompt.to_messages()\n",
    "\n",
    "# Print the prompt messages in a pretty format.\n",
    "prompt_messages_formatted_str = json.dumps([m.dict() for m in prompt_messages], indent=2)\n",
    "print('Messages:', prompt_messages_formatted_str, '\\n')\n",
    "\n",
    "\"\"\"\n",
    "Use the `invoke` method of the `ChatOpenAI` class to generate a response to the prompt messages.\n",
    "Use the `invoke` method of the `StrOutputParser` class to extract the content of the response.\n",
    "\"\"\"\n",
    "\n",
    "rtn: AIMessage = model.invoke(prompt_messages)\n",
    "rtn_content: str = parser.invoke(rtn)\n",
    "\n",
    "print(rtn_content)"
   ]
  },
  {
   "cell_type": "code",
   "execution_count": 4,
   "metadata": {},
   "outputs": [
    {
     "data": {
      "text/plain": [
       "'Dans ce guide de démarrage rapide, nous allons vous montrer comment construire une application LLM simple avec LangChain.'"
      ]
     },
     "execution_count": 4,
     "metadata": {},
     "output_type": "execute_result"
    }
   ],
   "source": [
    "\"\"\" Use LangChain Expression Language (LCEL) \"\"\"\n",
    "\n",
    "chain = prompt_template | model | parser\n",
    "\n",
    "chain.invoke(\n",
    "    {\n",
    "        'srclang': 'English',\n",
    "        'tarlang': 'French',\n",
    "        'text': \"In this quickstart we'll show you how to build a simple LLM application with LangChain.\"\n",
    "    }\n",
    ")"
   ]
  }
 ],
 "metadata": {
  "kernelspec": {
   "display_name": "base",
   "language": "python",
   "name": "python3"
  },
  "language_info": {
   "codemirror_mode": {
    "name": "ipython",
    "version": 3
   },
   "file_extension": ".py",
   "mimetype": "text/x-python",
   "name": "python",
   "nbconvert_exporter": "python",
   "pygments_lexer": "ipython3",
   "version": "3.11.9"
  }
 },
 "nbformat": 4,
 "nbformat_minor": 2
}
